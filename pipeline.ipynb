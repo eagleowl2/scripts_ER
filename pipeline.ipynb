{
 "cells": [
  {
   "cell_type": "markdown",
   "metadata": {},
   "source": [
    "# Bulk RNA-seq data analysis of ER and TCGA cohorts"
   ]
  },
  {
   "cell_type": "markdown",
   "metadata": {},
   "source": [
    "## Setup"
   ]
  },
  {
   "cell_type": "code",
   "execution_count": null,
   "metadata": {},
   "outputs": [],
   "source": [
    "# install packages\n",
    "## warn: umap-learn might conflict with newer numba // python 3.12+\n",
    "!pip install umap-learn\n",
    "!pip install pandas\n",
    "!pip install matplotlib\n",
    "!pip install seaborn\n",
    "!pip install numpy\n",
    "!pip install adjustText\n",
    "!pip install torch\n",
    "!pip install IProgress"
   ]
  },
  {
   "cell_type": "code",
   "execution_count": 17,
   "metadata": {},
   "outputs": [],
   "source": [
    "# import\n",
    "import importlib\n",
    "import src.TCGAvsER.ML\n",
    "import src.TCGAvsER.ML_viz\n",
    "importlib.reload(src.TCGAvsER.ML)\n",
    "importlib.reload(src.TCGAvsER.ML_viz)\n",
    "\n",
    "from src.TCGAvsER.load import load_rnaseq_data_batch, generate_balanced_file_list, load_rnaseq_data_batch_from_list\n",
    "from src.TCGAvsER.ML import LogisticRegressionML, RandomForestML, AdaBoostML, GradientBoostML, SelfSupervisedML\n",
    "from src.TCGAvsER.ML import train_and_test_mls\n",
    "from src.TCGAvsER.ML_viz import plot_all_metrics\n",
    "\n",
    "import pandas as pd\n",
    "import matplotlib.pyplot as plt\n",
    "import seaborn as sns\n",
    "import numpy as np\n",
    "from adjustText import adjust_text\n",
    "import os\n",
    "\n",
    "# Paths\n",
    "path_rnaseq_data_ER = \"data/raw/ER.zip\"\n",
    "path_rnaseq_data_TCGA = \"data/raw/TCGA.zip\""
   ]
  },
  {
   "cell_type": "code",
   "execution_count": null,
   "metadata": {},
   "outputs": [],
   "source": [
    "# Setup R\n",
    "!pip install rpy2\n",
    "import rpy2.robjects as robjects\n",
    "from rpy2.robjects import pandas2ri, Formula\n",
    "from rpy2.robjects.packages import importr\n",
    "pandas2ri.activate()\n",
    "deseq2 = importr('DESeq2')\n",
    "stats = importr('stats')"
   ]
  },
  {
   "cell_type": "code",
   "execution_count": 14,
   "metadata": {},
   "outputs": [],
   "source": [
    "# Unzip data\n",
    "if not os.path.exists(\"data/decompressed/ER\"):\n",
    "    !mkdir -p data/decompressed/ER; unzip -q $path_rnaseq_data_ER -d data/decompressed/ER\n",
    "if not os.path.exists(\"data/decompressed/TCGA\"):\n",
    "    !mkdir -p data/decompressed/TCGA; !unzip -q $path_rnaseq_data_TCGA -d data/decompressed/TCGA"
   ]
  },
  {
   "cell_type": "code",
   "execution_count": 3,
   "metadata": {},
   "outputs": [],
   "source": [
    "# Plotting settings\n",
    "plt.style.use('seaborn-v0_8-whitegrid')\n",
    "plt.rcParams['figure.figsize'] = (10, 6)\n",
    "plt.rcParams['axes.labelsize'] = 16\n",
    "plt.rcParams['axes.titlesize'] = 18\n",
    "plt.rcParams['xtick.labelsize'] = 14\n",
    "plt.rcParams['ytick.labelsize'] = 14\n",
    "plt.rcParams['axes.edgecolor'] = '#333333'\n",
    "plt.rcParams['axes.linewidth'] = 1.2\n",
    "plt.rcParams['axes.facecolor'] = 'white'\n",
    "plt.rcParams['grid.color'] = '#e5e5e5'\n",
    "plt.rcParams['grid.linestyle'] = '--'\n",
    "plt.rcParams['grid.linewidth'] = 0.8\n",
    "plt.rcParams['font.family'] = 'DejaVu Sans'\n",
    "plt.rcParams['legend.frameon'] = False\n",
    "plt.rcParams['legend.fontsize'] = 13\n",
    "plt.rcParams['savefig.facecolor'] = 'white'\n",
    "plt.rcParams['savefig.edgecolor'] = 'white'\n",
    "sns.set_palette('colorblind')"
   ]
  },
  {
   "cell_type": "markdown",
   "metadata": {},
   "source": [
    "## Load data"
   ]
  },
  {
   "cell_type": "code",
   "execution_count": null,
   "metadata": {},
   "outputs": [],
   "source": [
    "## Full ER\n",
    "rnaseq_data_ER = load_rnaseq_data_batch(\n",
    "    root_dir=\"data/decompressed/ER/Transcriptome Profiling\",\n",
    "    verbose=True\n",
    ")"
   ]
  },
  {
   "cell_type": "code",
   "execution_count": null,
   "metadata": {},
   "outputs": [],
   "source": [
    "## Metadata ER\n",
    "metadata_ER = pd.read_csv(\"data/metadata_ER.tsv\", sep=\"\\t\")\n",
    "# Get value counts and separate top 10 from others\n",
    "site_counts = metadata_ER['cases.primary_site'].value_counts()\n",
    "top_10 = site_counts.head(8)\n",
    "other = pd.Series({'Other': site_counts[8:].sum()})\n",
    "\n",
    "# Combine and plot\n",
    "combined = pd.concat([top_10, other])\n",
    "combined.plot(kind='barh', title='Primary Site Distribution', color=['#2ecc71', '#e74c3c'])\n",
    "plt.xlabel('Count')\n",
    "plt.ylabel('Primary Site')"
   ]
  },
  {
   "cell_type": "code",
   "execution_count": 11,
   "metadata": {},
   "outputs": [],
   "source": [
    "## Balance data\n",
    "balance_list ={\n",
    "    \"BRCA\":22,\n",
    "    \"COAD\":57,\n",
    "    \"ESCA\":23,\n",
    "    \"LUAD\":25,\n",
    "    \"OV\":9,\n",
    "    \"PAAD\":13,\n",
    "    \"PCPG\":7\n",
    "    #\"SKCM\":2\n",
    "}\n",
    "\n",
    "# Get balanced list\n",
    "seed = 42\n",
    "balanced_list = generate_balanced_file_list(\n",
    "    balance_list,\n",
    "    \"data/decompressed/TCGA/\",\n",
    "    seed=seed\n",
    ")"
   ]
  },
  {
   "cell_type": "code",
   "execution_count": null,
   "metadata": {},
   "outputs": [],
   "source": [
    "rnaseq_data_TCGA = load_rnaseq_data_batch_from_list(\n",
    "    balanced_list,\n",
    "    verbose=True\n",
    ")"
   ]
  },
  {
   "cell_type": "code",
   "execution_count": 13,
   "metadata": {},
   "outputs": [],
   "source": [
    "rnaseq_data_ER_counts = rnaseq_data_ER[0].drop(columns=['gene_name', 'gene_type'])#.set_index(['gene_name', 'gene_type'])\n",
    "rnaseq_data_TCGA_counts = rnaseq_data_TCGA[0].drop(columns=['gene_name', 'gene_type'])#.set_index(['gene_name', 'gene_type'])\n",
    "\n",
    "df_combined = pd.concat([rnaseq_data_ER_counts, rnaseq_data_TCGA_counts], axis=1)"
   ]
  },
  {
   "cell_type": "code",
   "execution_count": 20,
   "metadata": {},
   "outputs": [],
   "source": [
    "counts = df_combined.astype(int)\n",
    "\n",
    "# Create metadata\n",
    "Y = pd.DataFrame({\n",
    "    'condition': ['ER'] * (rnaseq_data_ER_counts.shape[1]) +\\\n",
    "         ['TCGA'] * (rnaseq_data_TCGA_counts.shape[1])\n",
    "})\n",
    "\n",
    "Y.index = counts.columns\n",
    "\n",
    "counts.to_csv(\"data/counts_combined.csv\", index=False)\n",
    "\n",
    "counts_ML = counts.copy()\n",
    "counts_ML.index = rnaseq_data_ER[0].loc[:, 'gene_name']\n",
    "counts_ML.to_csv(\"data/counts_combined_ML.csv\", index=False)\n",
    "\n",
    "Y.to_csv(\"data/counts_labels.csv\", index=False)"
   ]
  },
  {
   "cell_type": "code",
   "execution_count": 19,
   "metadata": {},
   "outputs": [],
   "source": [
    "rnaseq_data_ER_tpm = rnaseq_data_ER[3].drop(columns=['gene_name', 'gene_type'])#.set_index(['gene_name', 'gene_type'])\n",
    "rnaseq_data_TCGA_tpm = rnaseq_data_TCGA[3].drop(columns=['gene_name', 'gene_type'])#.set_index(['gene_name', 'gene_type'])\n",
    "\n",
    "df_combined_tpm = pd.concat([rnaseq_data_ER_tpm, rnaseq_data_TCGA_tpm], axis=1)\n",
    "df_combined_tpm.index = rnaseq_data_ER[3].loc[:, 'gene_name']\n",
    "df_combined_tpm.to_csv(\"data/tpm_combined.csv\", index=False)"
   ]
  },
  {
   "cell_type": "markdown",
   "metadata": {},
   "source": [
    "## Differential expression"
   ]
  },
  {
   "cell_type": "code",
   "execution_count": null,
   "metadata": {},
   "outputs": [],
   "source": [
    "counts = pd.read_csv(\"data/counts_combined.csv\")\n",
    "Y = pd.read_csv(\"data/counts_labels.csv\")"
   ]
  },
  {
   "cell_type": "code",
   "execution_count": 107,
   "metadata": {},
   "outputs": [],
   "source": [
    "counts_r = pandas2ri.py2rpy(counts)\n",
    "metadata_r = pandas2ri.py2rpy(Y)"
   ]
  },
  {
   "cell_type": "code",
   "execution_count": null,
   "metadata": {},
   "outputs": [],
   "source": [
    "# Create DESeq2 dataset\n",
    "dds = deseq2.DESeqDataSetFromMatrix(\n",
    "    countData=counts_r,\n",
    "    colData=metadata_r,\n",
    "    design=Formula('~ condition')\n",
    ")\n",
    "\n",
    "# Run DESeq2\n",
    "dds = deseq2.DESeq(dds)"
   ]
  },
  {
   "cell_type": "code",
   "execution_count": 119,
   "metadata": {},
   "outputs": [],
   "source": [
    "# Get results\n",
    "res = deseq2.results(dds)\n",
    "res_df = pandas2ri.rpy2py(robjects.r['as.data.frame'](res))\n",
    "\n",
    "gene_names = rnaseq_data_ER[0].loc[:, 'gene_name']\n",
    "\n",
    "# Add gene names back\n",
    "res_df['gene_name'] = gene_names\n",
    "\n",
    "res_df.to_csv('data/DESeq2_results.csv', index=True)"
   ]
  },
  {
   "cell_type": "code",
   "execution_count": null,
   "metadata": {},
   "outputs": [],
   "source": [
    "# Define significance thresholds\n",
    "lfc_threshold = 2\n",
    "pval_threshold = 0.001\n",
    "lfc_cap = 15\n",
    "\n",
    "# Create masks for different conditions\n",
    "up_sig = (res_df['log2FoldChange'] > lfc_threshold) & (res_df['padj'] < pval_threshold)\n",
    "down_sig = (res_df['log2FoldChange'] < -lfc_threshold) & (res_df['padj'] < pval_threshold)\n",
    "not_sig = ~(up_sig | down_sig)\n",
    "\n",
    "# Cap extreme log fold changes for plotting\n",
    "plot_lfc = res_df['log2FoldChange'].copy()\n",
    "plot_lfc[plot_lfc > lfc_cap] = lfc_cap\n",
    "plot_lfc[plot_lfc < -lfc_cap] = -lfc_cap\n",
    "\n",
    "# Plot points with different colors based on significance\n",
    "plt.scatter(\n",
    "    plot_lfc[not_sig],\n",
    "    -np.log10(res_df.loc[not_sig, 'padj']),\n",
    "    c='gray',\n",
    "    alpha=0.5,\n",
    "    s=20,\n",
    "    label='NS'\n",
    ")\n",
    "plt.scatter(\n",
    "    plot_lfc[up_sig],\n",
    "    -np.log10(res_df.loc[up_sig, 'padj']),\n",
    "    c='lightgreen',\n",
    "    alpha=0.7,\n",
    "    s=20,\n",
    "    label='UR'\n",
    ")\n",
    "plt.scatter(\n",
    "    plot_lfc[down_sig],\n",
    "    -np.log10(res_df.loc[down_sig, 'padj']),\n",
    "    c='pink',\n",
    "    alpha=0.7,\n",
    "    s=20,\n",
    "    label='DR'\n",
    ")\n",
    "\n",
    "# Add threshold lines\n",
    "plt.axhline(y=-np.log10(pval_threshold), color='r', linestyle='--', alpha=0.5)\n",
    "plt.axvline(x=lfc_threshold, color='r', linestyle='--', alpha=0.5)\n",
    "plt.axvline(x=-lfc_threshold, color='r', linestyle='--', alpha=0.5)\n",
    "\n",
    "# Get top up and down regulated genes\n",
    "top_up = res_df[up_sig].nlargest(10, 'log2FoldChange')\n",
    "top_down = res_df[down_sig].nsmallest(10, 'log2FoldChange')\n",
    "\n",
    "# Prepare text annotations for repelling\n",
    "texts = []\n",
    "for idx, row in pd.concat([top_up, top_down]).iterrows():\n",
    "    # Cap the x-coordinate for plotting\n",
    "    x_coord = min(max(row['log2FoldChange'], -lfc_cap), lfc_cap)\n",
    "    texts.append(plt.text(\n",
    "        x_coord,\n",
    "        -np.log10(row['padj']),\n",
    "        row['gene_name'],\n",
    "        fontsize=5,\n",
    "        bbox=dict(facecolor='white', edgecolor='none', alpha=0.7)\n",
    "    ))\n",
    "\n",
    "if False:\n",
    "    # Adjust text positions to avoid overlap\n",
    "    adjust_text(texts, \n",
    "               arrowprops=dict(arrowstyle='->', color='gray', lw=0.01),\n",
    "               expand_text=(.01, .01),\n",
    "               expand_points=(.01, .01),\n",
    "               force_text=(0.01, 0.01))\n",
    "\n",
    "plt.xlabel('log2 Fold Change (capped at ±15)')\n",
    "plt.ylabel('-log10 adjusted p-value')\n",
    "plt.title('Volcano: ER vs TCGA')\n",
    "plt.legend(loc='upper right', bbox_to_anchor=(1.15, 1))\n",
    "\n",
    "plt.tight_layout()\n",
    "plt.savefig('img/volcano_plot.png', dpi=300, bbox_inches='tight')\n",
    "plt.close()"
   ]
  },
  {
   "cell_type": "code",
   "execution_count": null,
   "metadata": {},
   "outputs": [],
   "source": [
    "print(\"\\nTop 10 up-regulated genes:\")\n",
    "print(top_up.loc[:,['gene_name']].to_string(index=False))\n",
    "print(\"\\nTop 10 down-regulated genes:\")\n",
    "print(top_down.loc[:,['gene_name']].to_string(index=False))"
   ]
  },
  {
   "cell_type": "code",
   "execution_count": null,
   "metadata": {},
   "outputs": [],
   "source": [
    "# Create violin-boxplot for top 20 genes by absolute log fold change\n",
    "# Sort by absolute log fold change and get top 20\n",
    "top_20_genes = res_df.iloc[res_df['log2FoldChange'].abs().argsort()[::-1][:20]].index.tolist()\n",
    "\n",
    "# Prepare data for plotting\n",
    "plot_data = []\n",
    "for gene in top_20_genes:\n",
    "    gene_idx = np.where(df_combined.index == gene)[0][0]\n",
    "    # Get expression values for cohort 1\n",
    "    idx1 = 2+rnaseq_data_ER_counts.shape[1]-2\n",
    "    cohort1_values = df_combined.iloc[gene_idx, 2:idx1].values\n",
    "    for val in cohort1_values:\n",
    "        plot_data.append({\n",
    "            'Gene': gene,\n",
    "            'Expression': val,\n",
    "            'Group': 'Cohort 1'\n",
    "        })\n",
    "    # Get expression values for cohort 2\n",
    "    idx2 = 2+rnaseq_data_ER_counts.shape[1]-2\n",
    "    cohort2_values = df_combined.iloc[gene_idx, idx2:].values\n",
    "    for val in cohort2_values:\n",
    "        plot_data.append({\n",
    "            'Gene': gene,\n",
    "            'Expression': val,\n",
    "            'Group': 'Cohort 2'\n",
    "        })\n",
    "\n",
    "plot_df = pd.DataFrame(plot_data)\n",
    "\n",
    "# Create the violin-boxplot\n",
    "plt.figure(figsize=(15, 8))\n",
    "sns.set_style(\"whitegrid\")\n",
    "ax = sns.boxplot(\n",
    "    data=plot_df,\n",
    "    x='Gene',\n",
    "    y=np.log10(plot_df['Expression'] + 1),\n",
    "    hue='Group',\n",
    "    #split=True,\n",
    "    #inner='box',\n",
    "    palette='Set2'\n",
    ")\n",
    "\n",
    "plt.xticks(rotation=45, ha='right')\n",
    "plt.title('Most differentially expressed genes')\n",
    "plt.xlabel('Genes')\n",
    "plt.ylabel('Expression Level, log10')\n",
    "plt.tight_layout()\n",
    "plt.savefig('img/violin_boxplot.png')\n",
    "plt.close()"
   ]
  },
  {
   "cell_type": "markdown",
   "metadata": {},
   "source": [
    "## ML"
   ]
  },
  {
   "cell_type": "markdown",
   "metadata": {},
   "source": [
    "### Train"
   ]
  },
  {
   "cell_type": "code",
   "execution_count": 13,
   "metadata": {},
   "outputs": [],
   "source": [
    "#df_combined = pd.read_csv(\"data/counts_combined.csv\")\n",
    "df_combined = pd.read_csv(\"data/tpm_combined.csv\")\n",
    "\n",
    "Y = pd.read_csv(\"data/counts_labels.csv\")"
   ]
  },
  {
   "cell_type": "code",
   "execution_count": null,
   "metadata": {},
   "outputs": [],
   "source": [
    "\n",
    "df_combined_test = df_combined.iloc[0:1000,]"
   ]
  },
  {
   "cell_type": "code",
   "execution_count": 14,
   "metadata": {},
   "outputs": [
    {
     "name": "stderr",
     "output_type": "stream",
     "text": [
      "Training SelfSupervisedML:   0%|          | 0/2 [00:00<?, ?it/s]"
     ]
    },
    {
     "name": "stdout",
     "output_type": "stream",
     "text": [
      "\n",
      "Silhouette Score: 0.275\n"
     ]
    },
    {
     "name": "stderr",
     "output_type": "stream",
     "text": []
    },
    {
     "name": "stdout",
     "output_type": "stream",
     "text": [
      "\n",
      "Silhouette Score: 0.313\n"
     ]
    },
    {
     "name": "stderr",
     "output_type": "stream",
     "text": []
    },
    {
     "name": "stdout",
     "output_type": "stream",
     "text": [
      "\n",
      "Silhouette Score: 0.310\n"
     ]
    },
    {
     "name": "stderr",
     "output_type": "stream",
     "text": []
    },
    {
     "name": "stdout",
     "output_type": "stream",
     "text": [
      "\n",
      "Silhouette Score: 0.315\n"
     ]
    },
    {
     "name": "stderr",
     "output_type": "stream",
     "text": []
    },
    {
     "name": "stdout",
     "output_type": "stream",
     "text": [
      "\n",
      "Silhouette Score: 0.455\n"
     ]
    },
    {
     "name": "stderr",
     "output_type": "stream",
     "text": []
    },
    {
     "name": "stdout",
     "output_type": "stream",
     "text": [
      "\n",
      "Silhouette Score: 0.239\n"
     ]
    },
    {
     "name": "stderr",
     "output_type": "stream",
     "text": []
    },
    {
     "name": "stdout",
     "output_type": "stream",
     "text": [
      "\n",
      "Silhouette Score: 0.277\n"
     ]
    },
    {
     "name": "stderr",
     "output_type": "stream",
     "text": []
    },
    {
     "name": "stdout",
     "output_type": "stream",
     "text": [
      "\n",
      "Silhouette Score: 0.200\n"
     ]
    },
    {
     "name": "stderr",
     "output_type": "stream",
     "text": []
    },
    {
     "name": "stdout",
     "output_type": "stream",
     "text": [
      "\n",
      "Silhouette Score: 0.416\n"
     ]
    },
    {
     "name": "stderr",
     "output_type": "stream",
     "text": [
      "Self-supervised training: 100%|██████████| 100/100 [00:40<00:00,  2.48it/s]"
     ]
    },
    {
     "name": "stdout",
     "output_type": "stream",
     "text": [
      "\n",
      "Silhouette Score: 0.234\n"
     ]
    },
    {
     "name": "stderr",
     "output_type": "stream",
     "text": [
      "\n"
     ]
    },
    {
     "name": "stdout",
     "output_type": "stream",
     "text": [
      "\n",
      "Silhouette Score: 0.234\n"
     ]
    },
    {
     "name": "stderr",
     "output_type": "stream",
     "text": [
      "Training RandomForestML:  50%|█████     | 1/2 [02:02<02:02, 122.64s/it]  "
     ]
    },
    {
     "name": "stdout",
     "output_type": "stream",
     "text": [
      "\n",
      "SelfSupervisedML best parameters:\n",
      "{'hidden_dims': [512, 256, 128], 'embedding_dim': 64, 'batch_size': 32, 'learning_rate': 0.001, 'num_epochs': 100}\n",
      "\n",
      "RandomForestML best parameters:\n",
      "{'max_depth': None, 'min_samples_leaf': 1, 'min_samples_split': 2, 'n_estimators': 300}\n"
     ]
    },
    {
     "name": "stderr",
     "output_type": "stream",
     "text": [
      "Training RandomForestML: 100%|██████████| 2/2 [02:23<00:00, 71.77s/it] \n"
     ]
    }
   ],
   "source": [
    "# setup & train\n",
    "models = [\n",
    "    SelfSupervisedML(),\n",
    "    #LogisticRegressionML(),\n",
    "    RandomForestML(),\n",
    "    #AdaBoostML(),\n",
    "    #GradientBoostML()\n",
    "]\n",
    "\n",
    "vec = [item for sublist in  Y.values.tolist() for item in sublist]\n",
    "\n",
    "# Train and test all models\n",
    "# Train all models\n",
    "results_df, best_models = train_and_test_mls(\n",
    "    matrix=df_combined_test,\n",
    "    Y=vec,\n",
    "    seed=42,\n",
    "    test_size = .4,\n",
    "    ml_methods=models\n",
    ")"
   ]
  },
  {
   "cell_type": "code",
   "execution_count": 8,
   "metadata": {},
   "outputs": [
    {
     "name": "stdout",
     "output_type": "stream",
     "text": [
      "   true SelfSupervisedML LogisticRegressionML RandomForestML AdaBoostML  \\\n",
      "0  TCGA             TCGA                 TCGA           TCGA       TCGA   \n",
      "1  TCGA             TCGA                 TCGA           TCGA       TCGA   \n",
      "2  TCGA             TCGA                 TCGA           TCGA       TCGA   \n",
      "3  TCGA             TCGA                 TCGA           TCGA       TCGA   \n",
      "4  TCGA             TCGA                 TCGA           TCGA       TCGA   \n",
      "\n",
      "  GradientBoostML  \n",
      "0            TCGA  \n",
      "1            TCGA  \n",
      "2            TCGA  \n",
      "3            TCGA  \n",
      "4            TCGA  \n"
     ]
    }
   ],
   "source": [
    "best_models['SelfSupervisedML'].plot_network_architecture()\n",
    "\n",
    "# Look at predictions\n",
    "print(results_df.head())"
   ]
  },
  {
   "cell_type": "code",
   "execution_count": 20,
   "metadata": {},
   "outputs": [
    {
     "name": "stderr",
     "output_type": "stream",
     "text": [
      "/nfs/home/dsmutin/.local/lib/python3.10/site-packages/sklearn/utils/deprecation.py:132: FutureWarning: 'force_all_finite' was renamed to 'ensure_all_finite' in 1.6 and will be removed in 1.8.\n",
      "  warnings.warn(\n",
      "/nfs/home/dsmutin/.local/lib/python3.10/site-packages/umap/umap_.py:1952: UserWarning: n_jobs value 1 overridden to 1 by setting random_state. Use no seed for parallelism.\n",
      "  warn(\n"
     ]
    }
   ],
   "source": [
    "plot_all_metrics(\n",
    "    matrix=df_combined.iloc[0:100,],\n",
    "    Y=vec,\n",
    "    seed=42,\n",
    "    results_df=results_df,\n",
    "    output_folder='img/ML/'\n",
    ")"
   ]
  },
  {
   "cell_type": "code",
   "execution_count": null,
   "metadata": {},
   "outputs": [],
   "source": [
    "# save models\n",
    "import os\n",
    "\n",
    "os.makedirs(\"models\", exist_ok=True)\n",
    "\n",
    "best_models['SelfSupervisedML'].save_model(\"models/SelfSupervisedML.pkl\")\n",
    "best_models['LogisticRegressionML'].save_model(\"models/LogisticRegressionML.pkl\")\n",
    "best_models['RandomForestML'].save_model(\"models/RandomForestML.pkl\")\n",
    "best_models['AdaBoostML'].save_model(\"models/AdaBoostML.pkl\")\n",
    "best_models['GradientBoostML'].save_model(\"models/GradientBoostML.pkl\")"
   ]
  },
  {
   "cell_type": "markdown",
   "metadata": {},
   "source": [
    "## Apply ML"
   ]
  },
  {
   "cell_type": "code",
   "execution_count": null,
   "metadata": {},
   "outputs": [],
   "source": [
    "rnaseq_data_all = load_rnaseq_data_batch(\n",
    "    root_dir=\"data/decompressed/TCGA\",\n",
    "    verbose=True\n",
    ")"
   ]
  },
  {
   "cell_type": "code",
   "execution_count": 28,
   "metadata": {},
   "outputs": [],
   "source": [
    "rnaseq_data_all[3].to_csv(\"data/tpm_full.csv\")\n",
    "rnaseq_data_all[0].to_csv(\"data/counts_full.csv\")"
   ]
  },
  {
   "cell_type": "code",
   "execution_count": 22,
   "metadata": {},
   "outputs": [],
   "source": [
    "rnaseq_data_tpm = pd.read_csv(\"data/tpm_full.csv\")\n",
    "#rnaseq_data_counts = pd.read_csv(\"data/counts_full.csv\")"
   ]
  },
  {
   "cell_type": "code",
   "execution_count": 29,
   "metadata": {},
   "outputs": [
    {
     "ename": "RuntimeError",
     "evalue": "mat1 and mat2 shapes cannot be multiplied (32x3352 and 1000x512)",
     "output_type": "error",
     "traceback": [
      "\u001b[0;31m---------------------------------------------------------------------------\u001b[0m",
      "\u001b[0;31mRuntimeError\u001b[0m                              Traceback (most recent call last)",
      "Cell \u001b[0;32mIn[29], line 3\u001b[0m\n\u001b[1;32m      1\u001b[0m best_model \u001b[38;5;241m=\u001b[39m best_models[\u001b[38;5;124m'\u001b[39m\u001b[38;5;124mSelfSupervisedML\u001b[39m\u001b[38;5;124m'\u001b[39m]\n\u001b[0;32m----> 3\u001b[0m ERvsTCGA \u001b[38;5;241m=\u001b[39m \u001b[43mbest_model\u001b[49m\u001b[38;5;241;43m.\u001b[39;49m\u001b[43mpredict\u001b[49m\u001b[43m(\u001b[49m\u001b[43mrnaseq_data_tpm\u001b[49m\u001b[38;5;241;43m.\u001b[39;49m\u001b[43miloc\u001b[49m\u001b[43m[\u001b[49m\u001b[38;5;241;43m0\u001b[39;49m\u001b[43m:\u001b[49m\u001b[38;5;241;43m1000\u001b[39;49m\u001b[43m,\u001b[49m\u001b[38;5;241;43m3\u001b[39;49m\u001b[43m:\u001b[49m\u001b[43m]\u001b[49m\u001b[38;5;241;43m.\u001b[39;49m\u001b[43mvalues\u001b[49m\u001b[43m)\u001b[49m\n\u001b[1;32m      4\u001b[0m ERvsTCGA_df \u001b[38;5;241m=\u001b[39m pd\u001b[38;5;241m.\u001b[39mDataFrame(ERvsTCGA, index\u001b[38;5;241m=\u001b[39mrnaseq_data_tpm\u001b[38;5;241m.\u001b[39mindex, columns\u001b[38;5;241m=\u001b[39m[\u001b[38;5;124m'\u001b[39m\u001b[38;5;124mERvsTCGA\u001b[39m\u001b[38;5;124m'\u001b[39m])\n\u001b[1;32m      5\u001b[0m ERvsTCGA_df\u001b[38;5;241m.\u001b[39mvalue_counts()\n",
      "File \u001b[0;32m/mnt/metagenomics/TCGA/scripts/src/TCGAvsER/ML.py:410\u001b[0m, in \u001b[0;36mSelfSupervisedML.predict\u001b[0;34m(self, X)\u001b[0m\n\u001b[1;32m    408\u001b[0m \u001b[38;5;28;01mdef\u001b[39;00m \u001b[38;5;21mpredict\u001b[39m(\u001b[38;5;28mself\u001b[39m, X):\n\u001b[1;32m    409\u001b[0m     \u001b[38;5;124;03m\"\"\"Add predict method for compatibility with sklearn interface\"\"\"\u001b[39;00m\n\u001b[0;32m--> 410\u001b[0m     embeddings \u001b[38;5;241m=\u001b[39m \u001b[38;5;28;43mself\u001b[39;49m\u001b[38;5;241;43m.\u001b[39;49m\u001b[43m_get_embeddings\u001b[49m\u001b[43m(\u001b[49m\u001b[43mX\u001b[49m\u001b[43m)\u001b[49m\n\u001b[1;32m    411\u001b[0m     \u001b[38;5;28;01mreturn\u001b[39;00m \u001b[38;5;28mself\u001b[39m\u001b[38;5;241m.\u001b[39mclassifier\u001b[38;5;241m.\u001b[39mpredict(embeddings)\n",
      "File \u001b[0;32m~/.local/lib/python3.10/site-packages/torch/utils/_contextlib.py:116\u001b[0m, in \u001b[0;36mcontext_decorator.<locals>.decorate_context\u001b[0;34m(*args, **kwargs)\u001b[0m\n\u001b[1;32m    113\u001b[0m \u001b[38;5;129m@functools\u001b[39m\u001b[38;5;241m.\u001b[39mwraps(func)\n\u001b[1;32m    114\u001b[0m \u001b[38;5;28;01mdef\u001b[39;00m \u001b[38;5;21mdecorate_context\u001b[39m(\u001b[38;5;241m*\u001b[39margs, \u001b[38;5;241m*\u001b[39m\u001b[38;5;241m*\u001b[39mkwargs):\n\u001b[1;32m    115\u001b[0m     \u001b[38;5;28;01mwith\u001b[39;00m ctx_factory():\n\u001b[0;32m--> 116\u001b[0m         \u001b[38;5;28;01mreturn\u001b[39;00m \u001b[43mfunc\u001b[49m\u001b[43m(\u001b[49m\u001b[38;5;241;43m*\u001b[39;49m\u001b[43margs\u001b[49m\u001b[43m,\u001b[49m\u001b[43m \u001b[49m\u001b[38;5;241;43m*\u001b[39;49m\u001b[38;5;241;43m*\u001b[39;49m\u001b[43mkwargs\u001b[49m\u001b[43m)\u001b[49m\n",
      "File \u001b[0;32m/mnt/metagenomics/TCGA/scripts/src/TCGAvsER/ML.py:435\u001b[0m, in \u001b[0;36mSelfSupervisedML._get_embeddings\u001b[0;34m(self, X)\u001b[0m\n\u001b[1;32m    433\u001b[0m \u001b[38;5;28;01mfor\u001b[39;00m batch \u001b[38;5;129;01min\u001b[39;00m dataloader:\n\u001b[1;32m    434\u001b[0m     batch \u001b[38;5;241m=\u001b[39m batch\u001b[38;5;241m.\u001b[39mto(\u001b[38;5;28mself\u001b[39m\u001b[38;5;241m.\u001b[39mdevice)\n\u001b[0;32m--> 435\u001b[0m     z \u001b[38;5;241m=\u001b[39m \u001b[38;5;28;43mself\u001b[39;49m\u001b[38;5;241;43m.\u001b[39;49m\u001b[43mencoder\u001b[49m\u001b[43m(\u001b[49m\u001b[43mbatch\u001b[49m\u001b[43m)\u001b[49m\n\u001b[1;32m    436\u001b[0m     embeddings\u001b[38;5;241m.\u001b[39mappend(z\u001b[38;5;241m.\u001b[39mcpu()\u001b[38;5;241m.\u001b[39mnumpy())\n\u001b[1;32m    438\u001b[0m \u001b[38;5;28;01mreturn\u001b[39;00m np\u001b[38;5;241m.\u001b[39mvstack(embeddings)\n",
      "File \u001b[0;32m~/.local/lib/python3.10/site-packages/torch/nn/modules/module.py:1751\u001b[0m, in \u001b[0;36mModule._wrapped_call_impl\u001b[0;34m(self, *args, **kwargs)\u001b[0m\n\u001b[1;32m   1749\u001b[0m     \u001b[38;5;28;01mreturn\u001b[39;00m \u001b[38;5;28mself\u001b[39m\u001b[38;5;241m.\u001b[39m_compiled_call_impl(\u001b[38;5;241m*\u001b[39margs, \u001b[38;5;241m*\u001b[39m\u001b[38;5;241m*\u001b[39mkwargs)  \u001b[38;5;66;03m# type: ignore[misc]\u001b[39;00m\n\u001b[1;32m   1750\u001b[0m \u001b[38;5;28;01melse\u001b[39;00m:\n\u001b[0;32m-> 1751\u001b[0m     \u001b[38;5;28;01mreturn\u001b[39;00m \u001b[38;5;28;43mself\u001b[39;49m\u001b[38;5;241;43m.\u001b[39;49m\u001b[43m_call_impl\u001b[49m\u001b[43m(\u001b[49m\u001b[38;5;241;43m*\u001b[39;49m\u001b[43margs\u001b[49m\u001b[43m,\u001b[49m\u001b[43m \u001b[49m\u001b[38;5;241;43m*\u001b[39;49m\u001b[38;5;241;43m*\u001b[39;49m\u001b[43mkwargs\u001b[49m\u001b[43m)\u001b[49m\n",
      "File \u001b[0;32m~/.local/lib/python3.10/site-packages/torch/nn/modules/module.py:1762\u001b[0m, in \u001b[0;36mModule._call_impl\u001b[0;34m(self, *args, **kwargs)\u001b[0m\n\u001b[1;32m   1757\u001b[0m \u001b[38;5;66;03m# If we don't have any hooks, we want to skip the rest of the logic in\u001b[39;00m\n\u001b[1;32m   1758\u001b[0m \u001b[38;5;66;03m# this function, and just call forward.\u001b[39;00m\n\u001b[1;32m   1759\u001b[0m \u001b[38;5;28;01mif\u001b[39;00m \u001b[38;5;129;01mnot\u001b[39;00m (\u001b[38;5;28mself\u001b[39m\u001b[38;5;241m.\u001b[39m_backward_hooks \u001b[38;5;129;01mor\u001b[39;00m \u001b[38;5;28mself\u001b[39m\u001b[38;5;241m.\u001b[39m_backward_pre_hooks \u001b[38;5;129;01mor\u001b[39;00m \u001b[38;5;28mself\u001b[39m\u001b[38;5;241m.\u001b[39m_forward_hooks \u001b[38;5;129;01mor\u001b[39;00m \u001b[38;5;28mself\u001b[39m\u001b[38;5;241m.\u001b[39m_forward_pre_hooks\n\u001b[1;32m   1760\u001b[0m         \u001b[38;5;129;01mor\u001b[39;00m _global_backward_pre_hooks \u001b[38;5;129;01mor\u001b[39;00m _global_backward_hooks\n\u001b[1;32m   1761\u001b[0m         \u001b[38;5;129;01mor\u001b[39;00m _global_forward_hooks \u001b[38;5;129;01mor\u001b[39;00m _global_forward_pre_hooks):\n\u001b[0;32m-> 1762\u001b[0m     \u001b[38;5;28;01mreturn\u001b[39;00m \u001b[43mforward_call\u001b[49m\u001b[43m(\u001b[49m\u001b[38;5;241;43m*\u001b[39;49m\u001b[43margs\u001b[49m\u001b[43m,\u001b[49m\u001b[43m \u001b[49m\u001b[38;5;241;43m*\u001b[39;49m\u001b[38;5;241;43m*\u001b[39;49m\u001b[43mkwargs\u001b[49m\u001b[43m)\u001b[49m\n\u001b[1;32m   1764\u001b[0m result \u001b[38;5;241m=\u001b[39m \u001b[38;5;28;01mNone\u001b[39;00m\n\u001b[1;32m   1765\u001b[0m called_always_called_hooks \u001b[38;5;241m=\u001b[39m \u001b[38;5;28mset\u001b[39m()\n",
      "File \u001b[0;32m/mnt/metagenomics/TCGA/scripts/src/TCGAvsER/ML.py:91\u001b[0m, in \u001b[0;36mRNAseqEncoder.forward\u001b[0;34m(self, x)\u001b[0m\n\u001b[1;32m     90\u001b[0m \u001b[38;5;28;01mdef\u001b[39;00m \u001b[38;5;21mforward\u001b[39m(\u001b[38;5;28mself\u001b[39m, x):\n\u001b[0;32m---> 91\u001b[0m     \u001b[38;5;28;01mreturn\u001b[39;00m \u001b[38;5;28;43mself\u001b[39;49m\u001b[38;5;241;43m.\u001b[39;49m\u001b[43mencoder\u001b[49m\u001b[43m(\u001b[49m\u001b[43mx\u001b[49m\u001b[43m)\u001b[49m\n",
      "File \u001b[0;32m~/.local/lib/python3.10/site-packages/torch/nn/modules/module.py:1751\u001b[0m, in \u001b[0;36mModule._wrapped_call_impl\u001b[0;34m(self, *args, **kwargs)\u001b[0m\n\u001b[1;32m   1749\u001b[0m     \u001b[38;5;28;01mreturn\u001b[39;00m \u001b[38;5;28mself\u001b[39m\u001b[38;5;241m.\u001b[39m_compiled_call_impl(\u001b[38;5;241m*\u001b[39margs, \u001b[38;5;241m*\u001b[39m\u001b[38;5;241m*\u001b[39mkwargs)  \u001b[38;5;66;03m# type: ignore[misc]\u001b[39;00m\n\u001b[1;32m   1750\u001b[0m \u001b[38;5;28;01melse\u001b[39;00m:\n\u001b[0;32m-> 1751\u001b[0m     \u001b[38;5;28;01mreturn\u001b[39;00m \u001b[38;5;28;43mself\u001b[39;49m\u001b[38;5;241;43m.\u001b[39;49m\u001b[43m_call_impl\u001b[49m\u001b[43m(\u001b[49m\u001b[38;5;241;43m*\u001b[39;49m\u001b[43margs\u001b[49m\u001b[43m,\u001b[49m\u001b[43m \u001b[49m\u001b[38;5;241;43m*\u001b[39;49m\u001b[38;5;241;43m*\u001b[39;49m\u001b[43mkwargs\u001b[49m\u001b[43m)\u001b[49m\n",
      "File \u001b[0;32m~/.local/lib/python3.10/site-packages/torch/nn/modules/module.py:1762\u001b[0m, in \u001b[0;36mModule._call_impl\u001b[0;34m(self, *args, **kwargs)\u001b[0m\n\u001b[1;32m   1757\u001b[0m \u001b[38;5;66;03m# If we don't have any hooks, we want to skip the rest of the logic in\u001b[39;00m\n\u001b[1;32m   1758\u001b[0m \u001b[38;5;66;03m# this function, and just call forward.\u001b[39;00m\n\u001b[1;32m   1759\u001b[0m \u001b[38;5;28;01mif\u001b[39;00m \u001b[38;5;129;01mnot\u001b[39;00m (\u001b[38;5;28mself\u001b[39m\u001b[38;5;241m.\u001b[39m_backward_hooks \u001b[38;5;129;01mor\u001b[39;00m \u001b[38;5;28mself\u001b[39m\u001b[38;5;241m.\u001b[39m_backward_pre_hooks \u001b[38;5;129;01mor\u001b[39;00m \u001b[38;5;28mself\u001b[39m\u001b[38;5;241m.\u001b[39m_forward_hooks \u001b[38;5;129;01mor\u001b[39;00m \u001b[38;5;28mself\u001b[39m\u001b[38;5;241m.\u001b[39m_forward_pre_hooks\n\u001b[1;32m   1760\u001b[0m         \u001b[38;5;129;01mor\u001b[39;00m _global_backward_pre_hooks \u001b[38;5;129;01mor\u001b[39;00m _global_backward_hooks\n\u001b[1;32m   1761\u001b[0m         \u001b[38;5;129;01mor\u001b[39;00m _global_forward_hooks \u001b[38;5;129;01mor\u001b[39;00m _global_forward_pre_hooks):\n\u001b[0;32m-> 1762\u001b[0m     \u001b[38;5;28;01mreturn\u001b[39;00m \u001b[43mforward_call\u001b[49m\u001b[43m(\u001b[49m\u001b[38;5;241;43m*\u001b[39;49m\u001b[43margs\u001b[49m\u001b[43m,\u001b[49m\u001b[43m \u001b[49m\u001b[38;5;241;43m*\u001b[39;49m\u001b[38;5;241;43m*\u001b[39;49m\u001b[43mkwargs\u001b[49m\u001b[43m)\u001b[49m\n\u001b[1;32m   1764\u001b[0m result \u001b[38;5;241m=\u001b[39m \u001b[38;5;28;01mNone\u001b[39;00m\n\u001b[1;32m   1765\u001b[0m called_always_called_hooks \u001b[38;5;241m=\u001b[39m \u001b[38;5;28mset\u001b[39m()\n",
      "File \u001b[0;32m~/.local/lib/python3.10/site-packages/torch/nn/modules/container.py:240\u001b[0m, in \u001b[0;36mSequential.forward\u001b[0;34m(self, input)\u001b[0m\n\u001b[1;32m    238\u001b[0m \u001b[38;5;28;01mdef\u001b[39;00m \u001b[38;5;21mforward\u001b[39m(\u001b[38;5;28mself\u001b[39m, \u001b[38;5;28minput\u001b[39m):\n\u001b[1;32m    239\u001b[0m     \u001b[38;5;28;01mfor\u001b[39;00m module \u001b[38;5;129;01min\u001b[39;00m \u001b[38;5;28mself\u001b[39m:\n\u001b[0;32m--> 240\u001b[0m         \u001b[38;5;28minput\u001b[39m \u001b[38;5;241m=\u001b[39m \u001b[43mmodule\u001b[49m\u001b[43m(\u001b[49m\u001b[38;5;28;43minput\u001b[39;49m\u001b[43m)\u001b[49m\n\u001b[1;32m    241\u001b[0m     \u001b[38;5;28;01mreturn\u001b[39;00m \u001b[38;5;28minput\u001b[39m\n",
      "File \u001b[0;32m~/.local/lib/python3.10/site-packages/torch/nn/modules/module.py:1751\u001b[0m, in \u001b[0;36mModule._wrapped_call_impl\u001b[0;34m(self, *args, **kwargs)\u001b[0m\n\u001b[1;32m   1749\u001b[0m     \u001b[38;5;28;01mreturn\u001b[39;00m \u001b[38;5;28mself\u001b[39m\u001b[38;5;241m.\u001b[39m_compiled_call_impl(\u001b[38;5;241m*\u001b[39margs, \u001b[38;5;241m*\u001b[39m\u001b[38;5;241m*\u001b[39mkwargs)  \u001b[38;5;66;03m# type: ignore[misc]\u001b[39;00m\n\u001b[1;32m   1750\u001b[0m \u001b[38;5;28;01melse\u001b[39;00m:\n\u001b[0;32m-> 1751\u001b[0m     \u001b[38;5;28;01mreturn\u001b[39;00m \u001b[38;5;28;43mself\u001b[39;49m\u001b[38;5;241;43m.\u001b[39;49m\u001b[43m_call_impl\u001b[49m\u001b[43m(\u001b[49m\u001b[38;5;241;43m*\u001b[39;49m\u001b[43margs\u001b[49m\u001b[43m,\u001b[49m\u001b[43m \u001b[49m\u001b[38;5;241;43m*\u001b[39;49m\u001b[38;5;241;43m*\u001b[39;49m\u001b[43mkwargs\u001b[49m\u001b[43m)\u001b[49m\n",
      "File \u001b[0;32m~/.local/lib/python3.10/site-packages/torch/nn/modules/module.py:1762\u001b[0m, in \u001b[0;36mModule._call_impl\u001b[0;34m(self, *args, **kwargs)\u001b[0m\n\u001b[1;32m   1757\u001b[0m \u001b[38;5;66;03m# If we don't have any hooks, we want to skip the rest of the logic in\u001b[39;00m\n\u001b[1;32m   1758\u001b[0m \u001b[38;5;66;03m# this function, and just call forward.\u001b[39;00m\n\u001b[1;32m   1759\u001b[0m \u001b[38;5;28;01mif\u001b[39;00m \u001b[38;5;129;01mnot\u001b[39;00m (\u001b[38;5;28mself\u001b[39m\u001b[38;5;241m.\u001b[39m_backward_hooks \u001b[38;5;129;01mor\u001b[39;00m \u001b[38;5;28mself\u001b[39m\u001b[38;5;241m.\u001b[39m_backward_pre_hooks \u001b[38;5;129;01mor\u001b[39;00m \u001b[38;5;28mself\u001b[39m\u001b[38;5;241m.\u001b[39m_forward_hooks \u001b[38;5;129;01mor\u001b[39;00m \u001b[38;5;28mself\u001b[39m\u001b[38;5;241m.\u001b[39m_forward_pre_hooks\n\u001b[1;32m   1760\u001b[0m         \u001b[38;5;129;01mor\u001b[39;00m _global_backward_pre_hooks \u001b[38;5;129;01mor\u001b[39;00m _global_backward_hooks\n\u001b[1;32m   1761\u001b[0m         \u001b[38;5;129;01mor\u001b[39;00m _global_forward_hooks \u001b[38;5;129;01mor\u001b[39;00m _global_forward_pre_hooks):\n\u001b[0;32m-> 1762\u001b[0m     \u001b[38;5;28;01mreturn\u001b[39;00m \u001b[43mforward_call\u001b[49m\u001b[43m(\u001b[49m\u001b[38;5;241;43m*\u001b[39;49m\u001b[43margs\u001b[49m\u001b[43m,\u001b[49m\u001b[43m \u001b[49m\u001b[38;5;241;43m*\u001b[39;49m\u001b[38;5;241;43m*\u001b[39;49m\u001b[43mkwargs\u001b[49m\u001b[43m)\u001b[49m\n\u001b[1;32m   1764\u001b[0m result \u001b[38;5;241m=\u001b[39m \u001b[38;5;28;01mNone\u001b[39;00m\n\u001b[1;32m   1765\u001b[0m called_always_called_hooks \u001b[38;5;241m=\u001b[39m \u001b[38;5;28mset\u001b[39m()\n",
      "File \u001b[0;32m~/.local/lib/python3.10/site-packages/torch/nn/modules/linear.py:125\u001b[0m, in \u001b[0;36mLinear.forward\u001b[0;34m(self, input)\u001b[0m\n\u001b[1;32m    124\u001b[0m \u001b[38;5;28;01mdef\u001b[39;00m \u001b[38;5;21mforward\u001b[39m(\u001b[38;5;28mself\u001b[39m, \u001b[38;5;28minput\u001b[39m: Tensor) \u001b[38;5;241m-\u001b[39m\u001b[38;5;241m>\u001b[39m Tensor:\n\u001b[0;32m--> 125\u001b[0m     \u001b[38;5;28;01mreturn\u001b[39;00m \u001b[43mF\u001b[49m\u001b[38;5;241;43m.\u001b[39;49m\u001b[43mlinear\u001b[49m\u001b[43m(\u001b[49m\u001b[38;5;28;43minput\u001b[39;49m\u001b[43m,\u001b[49m\u001b[43m \u001b[49m\u001b[38;5;28;43mself\u001b[39;49m\u001b[38;5;241;43m.\u001b[39;49m\u001b[43mweight\u001b[49m\u001b[43m,\u001b[49m\u001b[43m \u001b[49m\u001b[38;5;28;43mself\u001b[39;49m\u001b[38;5;241;43m.\u001b[39;49m\u001b[43mbias\u001b[49m\u001b[43m)\u001b[49m\n",
      "\u001b[0;31mRuntimeError\u001b[0m: mat1 and mat2 shapes cannot be multiplied (32x3352 and 1000x512)"
     ]
    }
   ],
   "source": [
    "best_model = best_models['SelfSupervisedML']\n",
    "\n",
    "ERvsTCGA = best_model.predict(rnaseq_data_tpm.iloc[0:1000,3:].values)\n",
    "ERvsTCGA_df = pd.DataFrame(ERvsTCGA, index=rnaseq_data_tpm['gene_name'], columns=['ERvsTCGA'])\n",
    "ERvsTCGA_df.value_counts()"
   ]
  }
 ],
 "metadata": {
  "kernelspec": {
   "display_name": "Python 3",
   "language": "python",
   "name": "python3"
  },
  "language_info": {
   "codemirror_mode": {
    "name": "ipython",
    "version": 3
   },
   "file_extension": ".py",
   "mimetype": "text/x-python",
   "name": "python",
   "nbconvert_exporter": "python",
   "pygments_lexer": "ipython3",
   "version": "3.10.12"
  }
 },
 "nbformat": 4,
 "nbformat_minor": 2
}
